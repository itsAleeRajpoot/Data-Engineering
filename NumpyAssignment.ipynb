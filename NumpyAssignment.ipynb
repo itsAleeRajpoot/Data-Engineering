{
 "cells": [
  {
   "cell_type": "markdown",
   "metadata": {
    "id": "UZXjlass3ARu"
   },
   "source": [
    "\n",
    "# **1. Basic Array Manipulation:**\n"
   ]
  },
  {
   "cell_type": "markdown",
   "metadata": {
    "id": "tDWPQRm23C7o"
   },
   "source": [
    "Create a 1D array with values ranging from 0 to 9.\n"
   ]
  },
  {
   "cell_type": "code",
   "execution_count": 7,
   "metadata": {
    "id": "OvGF66_02Q8H"
   },
   "outputs": [],
   "source": [
    "import numpy as np"
   ]
  },
  {
   "cell_type": "code",
   "execution_count": 3,
   "metadata": {},
   "outputs": [
    {
     "name": "stdout",
     "output_type": "stream",
     "text": [
      "[0 1 2 3 4 5 6 7 8 9]\n"
     ]
    }
   ],
   "source": [
    "array_1D = np.arange(10)\n",
    "print(array_1D)"
   ]
  },
  {
   "cell_type": "markdown",
   "metadata": {
    "id": "UYzIzPyB3Ne3"
   },
   "source": [
    "Reshape the array into a 3x3 matrix.\n",
    "\n",
    "Explore Reshape Function"
   ]
  },
  {
   "cell_type": "code",
   "execution_count": 10,
   "metadata": {
    "id": "RLlzDCBc2Q_P"
   },
   "outputs": [
    {
     "name": "stdout",
     "output_type": "stream",
     "text": [
      "[1 2 3 4 5 6 7 8 9]\n"
     ]
    }
   ],
   "source": [
    "for_matrix = np.arange(1,10)\n",
    "print(for_matrix)"
   ]
  },
  {
   "cell_type": "code",
   "execution_count": 12,
   "metadata": {},
   "outputs": [
    {
     "name": "stdout",
     "output_type": "stream",
     "text": [
      "[[1 2 3]\n",
      " [4 5 6]\n",
      " [7 8 9]]\n"
     ]
    }
   ],
   "source": [
    "matrix = for_matrix.reshape(3,3)\n",
    "print(matrix)"
   ]
  },
  {
   "cell_type": "markdown",
   "metadata": {
    "id": "KmhRK9Ti3Phn"
   },
   "source": [
    "Access the element at the second row, second column.\n"
   ]
  },
  {
   "cell_type": "code",
   "execution_count": 15,
   "metadata": {
    "id": "Dk_a1D3A3ijN"
   },
   "outputs": [
    {
     "name": "stdout",
     "output_type": "stream",
     "text": [
      "[[1 2 3]\n",
      " [4 5 6]\n",
      " [7 8 9]]\n"
     ]
    }
   ],
   "source": [
    "matrix_array = np.array(matrix)\n",
    "print(matrix_array)\n"
   ]
  },
  {
   "cell_type": "code",
   "execution_count": 18,
   "metadata": {},
   "outputs": [
    {
     "data": {
      "text/plain": [
       "5"
      ]
     },
     "execution_count": 18,
     "metadata": {},
     "output_type": "execute_result"
    }
   ],
   "source": [
    "matrix[1,1]"
   ]
  },
  {
   "cell_type": "code",
   "execution_count": 17,
   "metadata": {},
   "outputs": [
    {
     "data": {
      "text/plain": [
       "5"
      ]
     },
     "execution_count": 17,
     "metadata": {},
     "output_type": "execute_result"
    }
   ],
   "source": [
    "matrix_array[1,1]"
   ]
  },
  {
   "cell_type": "markdown",
   "metadata": {
    "id": "NlH7N-fZ36wc"
   },
   "source": [
    "Perform element-wise addition, subtraction, multiplication, and division on two arrays [1, 2, 3] and [4, 5, 6].\n"
   ]
  },
  {
   "cell_type": "code",
   "execution_count": 22,
   "metadata": {
    "id": "PkgNSo1a37kP"
   },
   "outputs": [],
   "source": [
    "array_A = np.array([1,2,3])\n",
    "array_B = np.array([4,5,6])"
   ]
  },
  {
   "cell_type": "code",
   "execution_count": 28,
   "metadata": {
    "scrolled": true
   },
   "outputs": [
    {
     "name": "stdout",
     "output_type": "stream",
     "text": [
      "[5 7 9]\n",
      "[-3 -3 -3]\n",
      "[ 4 10 18]\n",
      "[0.25 0.4  0.5 ]\n"
     ]
    }
   ],
   "source": [
    "addition_AB = array_A + array_B\n",
    "print(addition_AB)\n",
    "substract_AB = array_A - array_B\n",
    "print(substract_AB)\n",
    "multiply_AB = array_A * array_B\n",
    "print(multiply_AB)\n",
    "divide_AB = array_A / array_B\n",
    "print(divide_AB)\n"
   ]
  },
  {
   "cell_type": "markdown",
   "metadata": {
    "id": "JVt4zxkk8e0P"
   },
   "source": [
    "Find the sum, mean, and standard deviation of the array [1, 2, 3, 4, 5].\n"
   ]
  },
  {
   "cell_type": "code",
   "execution_count": 29,
   "metadata": {
    "id": "mQZxaZ0c8nhh"
   },
   "outputs": [],
   "source": [
    "array_D = [1, 2, 3, 4, 5]\n"
   ]
  },
  {
   "cell_type": "code",
   "execution_count": 32,
   "metadata": {},
   "outputs": [
    {
     "data": {
      "text/plain": [
       "15"
      ]
     },
     "execution_count": 32,
     "metadata": {},
     "output_type": "execute_result"
    }
   ],
   "source": [
    "np.sum(array_D)\n"
   ]
  },
  {
   "cell_type": "code",
   "execution_count": 33,
   "metadata": {},
   "outputs": [
    {
     "data": {
      "text/plain": [
       "3.0"
      ]
     },
     "execution_count": 33,
     "metadata": {},
     "output_type": "execute_result"
    }
   ],
   "source": [
    "np.mean(array_D)"
   ]
  },
  {
   "cell_type": "code",
   "execution_count": 34,
   "metadata": {},
   "outputs": [
    {
     "data": {
      "text/plain": [
       "1.4142135623730951"
      ]
     },
     "execution_count": 34,
     "metadata": {},
     "output_type": "execute_result"
    }
   ],
   "source": [
    "np.std(array_D)"
   ]
  },
  {
   "cell_type": "markdown",
   "metadata": {
    "id": "ji2XvW0Z8nn5"
   },
   "source": [
    "Reshape the array [1, 2, 3, 4, 5, 6] into a 2x3 array.\n",
    "\n",
    "Explore Reshape"
   ]
  },
  {
   "cell_type": "code",
   "execution_count": 36,
   "metadata": {
    "id": "FNbYlzyI8rAx"
   },
   "outputs": [
    {
     "name": "stdout",
     "output_type": "stream",
     "text": [
      "[[1 2 3]\n",
      " [4 5 6]]\n"
     ]
    }
   ],
   "source": [
    "reshape_array = np.array([1,2,3,4,5,6])\n",
    "reshaped = reshape_array.reshape(2,3)\n",
    "print(reshaped)"
   ]
  },
  {
   "cell_type": "markdown",
   "metadata": {
    "id": "OE-5o0th3SU4"
   },
   "source": [
    "\n",
    "# **2. Indexing and Slicing:**\n"
   ]
  },
  {
   "cell_type": "markdown",
   "metadata": {
    "id": "yqNKWBOl3an3"
   },
   "source": [
    "Create a 5x5 array with random integers.\n"
   ]
  },
  {
   "cell_type": "code",
   "execution_count": 3,
   "metadata": {
    "id": "G-kX4nme2RBn"
   },
   "outputs": [
    {
     "name": "stdout",
     "output_type": "stream",
     "text": [
      "[[32 21 82 34 17]\n",
      " [12 42 27 76 11]\n",
      " [59 89 92 66  7]\n",
      " [ 2 40  3 82 72]\n",
      " [27 15 70 78 25]]\n"
     ]
    }
   ],
   "source": [
    "rand_int = np.random.randint(1,100,size=(5,5))\n",
    "print(rand_int)"
   ]
  },
  {
   "cell_type": "markdown",
   "metadata": {
    "id": "LlilKAMF3bMX"
   },
   "source": [
    "Replace all values in the sub-array with a specific value.\n"
   ]
  },
  {
   "cell_type": "code",
   "execution_count": null,
   "metadata": {
    "id": "gShfqRGm2REI"
   },
   "outputs": [],
   "source": []
  },
  {
   "cell_type": "markdown",
   "metadata": {
    "id": "1kUY7u023gfF"
   },
   "source": [
    "Extract the subarray [[3, 4], [7, 8]] from the array [[1, 2], [3, 4], [5, 6], [7, 8]].\n"
   ]
  },
  {
   "cell_type": "code",
   "execution_count": 17,
   "metadata": {
    "id": "UmgqjBwC3_4V"
   },
   "outputs": [
    {
     "name": "stdout",
     "output_type": "stream",
     "text": [
      "[[3 4]\n",
      " [7 8]]\n"
     ]
    }
   ],
   "source": [
    "an_array = np.array([[1, 2], [3, 4], [5, 6], [7, 8]])\n",
    "subarray = an_array[(1,3),:]\n",
    "print(subarray)"
   ]
  },
  {
   "cell_type": "markdown",
   "metadata": {
    "id": "vPrCHS_O3jK9"
   },
   "source": [
    "\n",
    "# **3. Broadcasting:**"
   ]
  },
  {
   "cell_type": "markdown",
   "metadata": {
    "id": "W3WUM5Cc3phc"
   },
   "source": [
    "Create a 2D array of shape (3, 3) with values from 0 to 2.\n"
   ]
  },
  {
   "cell_type": "code",
   "execution_count": 19,
   "metadata": {
    "id": "PxJrAlFW2RGw"
   },
   "outputs": [
    {
     "name": "stdout",
     "output_type": "stream",
     "text": [
      "[[0 1 0]\n",
      " [0 0 1]\n",
      " [1 0 1]]\n"
     ]
    }
   ],
   "source": [
    "array_2D = np.random.randint(0,2,size=(3,3))\n",
    "print(array_2D)"
   ]
  },
  {
   "cell_type": "markdown",
   "metadata": {
    "id": "J5XPwN3A3rXG"
   },
   "source": [
    "Add a 1D array of shape (3,) to each row of the 2D array using broadcasting.\n"
   ]
  },
  {
   "cell_type": "code",
   "execution_count": 21,
   "metadata": {
    "id": "k4FM2g_c2RJv"
   },
   "outputs": [
    {
     "name": "stdout",
     "output_type": "stream",
     "text": [
      "[[3 4 3]\n",
      " [3 3 4]\n",
      " [4 3 4]]\n"
     ]
    }
   ],
   "source": [
    "array_1D = [3]\n",
    "adding_arrays = array_2D + array_1D\n",
    "print(adding_arrays)"
   ]
  },
  {
   "cell_type": "markdown",
   "metadata": {
    "id": "9CbtQS3w4PA3"
   },
   "source": [
    "# **4. Concatenation and Splitting**"
   ]
  },
  {
   "cell_type": "markdown",
   "metadata": {
    "id": "yMg_umVy4ILG"
   },
   "source": [
    "\n",
    "1.   Create two 2D arrays of shape (3, 3) with random integers.\n",
    "2.   Concatenate them horizontally and vertically.\n",
    "3.   Split the concatenated arrays back into the original arrays.\n"
   ]
  },
  {
   "cell_type": "code",
   "execution_count": 23,
   "metadata": {
    "id": "wXiCa2Sn8XHP"
   },
   "outputs": [
    {
     "name": "stdout",
     "output_type": "stream",
     "text": [
      "[[ 8  5  1]\n",
      " [10  9  5]\n",
      " [ 3 10  3]]\n"
     ]
    }
   ],
   "source": [
    "array_one = np.random.randint(1,11,size=(3,3))\n",
    "print(array_one)"
   ]
  },
  {
   "cell_type": "code",
   "execution_count": 24,
   "metadata": {
    "id": "yAiYe6vj8XSW"
   },
   "outputs": [
    {
     "name": "stdout",
     "output_type": "stream",
     "text": [
      "[[14 20 11]\n",
      " [19 16 14]\n",
      " [19 17 16]]\n"
     ]
    }
   ],
   "source": [
    "array_two = np.random.randint(11,21,size=(3,3))\n",
    "print(array_two)"
   ]
  },
  {
   "cell_type": "code",
   "execution_count": 31,
   "metadata": {
    "id": "lgMsjt-J8XZK"
   },
   "outputs": [
    {
     "name": "stdout",
     "output_type": "stream",
     "text": [
      "Concetinate Horizontally\n",
      "[[ 8  5  1 14 20 11]\n",
      " [10  9  5 19 16 14]\n",
      " [ 3 10  3 19 17 16]]\n"
     ]
    }
   ],
   "source": [
    "print(\"Concatinate Horizontally\")\n",
    "concetinate = np.hstack((array_one,array_two))\n",
    "print(concetinate)"
   ]
  },
  {
   "cell_type": "code",
   "execution_count": 38,
   "metadata": {},
   "outputs": [
    {
     "name": "stdout",
     "output_type": "stream",
     "text": [
      "Concatinate Vertically:\n",
      "[[ 8  5  1]\n",
      " [10  9  5]\n",
      " [ 3 10  3]\n",
      " [14 20 11]\n",
      " [19 16 14]\n",
      " [19 17 16]]\n"
     ]
    }
   ],
   "source": [
    "concatinate_vertical = np.vstack((array_one,array_two))\n",
    "print(f'Concatinate Vertically:\\n{concatinate_vertical}')"
   ]
  },
  {
   "cell_type": "markdown",
   "metadata": {
    "id": "2CliNLH8YG3j"
   },
   "source": [
    "# **Bonus Question**\n",
    "\n",
    "Find mode of this array  = [1,2,1,2,3,4,5,6,8,9,1,2,2,22,21,1,1,1,1,2,5]\n",
    "\n",
    "Hint: Use count and also loop"
   ]
  },
  {
   "cell_type": "code",
   "execution_count": 4,
   "metadata": {
    "id": "JGe2Qe3SYaHq"
   },
   "outputs": [],
   "source": [
    "arrayy = [1,2,1,2,3,4,5,6,8,9,1,2,2,22,21,1,1,1,1,2,5]"
   ]
  },
  {
   "cell_type": "code",
   "execution_count": 5,
   "metadata": {},
   "outputs": [
    {
     "name": "stdout",
     "output_type": "stream",
     "text": [
      "Mode of this array is 21 and counts is 1\n"
     ]
    }
   ],
   "source": [
    "array_dict = {}\n",
    "\n",
    "for temp in arrayy:\n",
    "    if temp in array_dict:\n",
    "        array_dict[temp] += 1\n",
    "    else:\n",
    "        array_dict[temp] = 1\n",
    "        \n",
    "mode = None\n",
    "count = 0\n",
    "\n",
    "for mode, count in array_dict.items():\n",
    "    if count > count:\n",
    "        mode = mode\n",
    "        count = count\n",
    "        \n",
    "print(f'Mode of this array is {mode} and counts is {count}')"
   ]
  },
  {
   "cell_type": "markdown",
   "metadata": {
    "id": "1t9n5GQdYbHN"
   },
   "source": [
    "# **Notes**\n",
    "\n",
    "\n",
    "1.   All the Questions carry Equal Points (2 points)\n",
    "\n",
    "2.   Bonus Question carry 5 points\n",
    "\n",
    "3.   Review lecture for any query\n",
    "\n",
    "Good Luck!\n",
    "\n"
   ]
  },
  {
   "cell_type": "code",
   "execution_count": null,
   "metadata": {
    "id": "yxT9-gJfYugV"
   },
   "outputs": [],
   "source": []
  }
 ],
 "metadata": {
  "colab": {
   "provenance": []
  },
  "kernelspec": {
   "display_name": "Python 3 (ipykernel)",
   "language": "python",
   "name": "python3"
  },
  "language_info": {
   "codemirror_mode": {
    "name": "ipython",
    "version": 3
   },
   "file_extension": ".py",
   "mimetype": "text/x-python",
   "name": "python",
   "nbconvert_exporter": "python",
   "pygments_lexer": "ipython3",
   "version": "3.11.5"
  }
 },
 "nbformat": 4,
 "nbformat_minor": 1
}
